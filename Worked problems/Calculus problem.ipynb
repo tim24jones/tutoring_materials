{
 "cells": [
  {
   "cell_type": "code",
   "execution_count": null,
   "metadata": {
    "collapsed": true
   },
   "outputs": [],
   "source": [
    "#Here's how I solved the calculus problem.\n",
    "#I've typed it using math typesetting to make it look nice.\n",
    "#You can ignore the gobbeldegook in the grey spaces as it's just instructions for computer formatting\n",
    "#which you can ignore."
   ]
  },
  {
   "cell_type": "code",
   "execution_count": 33,
   "metadata": {},
   "outputs": [
    {
     "data": {
      "text/latex": [
       "\n",
       "I think the error was in understanding profit.  I originally said:\n",
       "$$profit=price-cost$$\n",
       "Unfortunately, the price is for each shirt, while the cost is for all of them.\n",
       "To fix this, we can multiply the price by the number of shirts:\n",
       "$$profit=price\\times x-cost$$\n",
       "I think everything else we did was okay."
      ],
      "text/plain": [
       "<IPython.core.display.Latex object>"
      ]
     },
     "metadata": {},
     "output_type": "display_data"
    }
   ],
   "source": [
    "I think the error was in understanding profit.  I originally said:\n",
    "$$profit=price-cost$$\n",
    "Unfortunately, the price is for each shirt, while the cost is for all of them.\n",
    "To fix this, we can multiply the price by the number of shirts:\n",
    "$$profit=price times x-cost$$\n",
    "where x is shirts.  I think everything else we did was okay.\n"
   ]
  },
  {
   "cell_type": "code",
   "execution_count": 10,
   "metadata": {},
   "outputs": [
    {
     "data": {
      "text/latex": [
       "C=Cost, P=Price, Pf=Profit, x=number of shirts.  From the first sentence:\n",
       "$$C=500+9x$$\n",
       "From the given equation:\n",
       "$$P+0.2\\sqrt{x}=30$$\n",
       "$$P=30-0.2\\sqrt{x}$$\n",
       "From the profit equation (above):\n",
       "$$Pf=Px-C$$\n",
       "Substituting the first two equations into the profit equation for C and P:\n",
       "$$Pf=(30-0.2\\sqrt{x})x-(500+9x)$$\n",
       "$$Pf=(30x-0.2x\\sqrt{x})-500-9x$$\n",
       "$$Pf=21x-0.2x^{\\frac{3}{2}}-500$$\n",
       "Somewhere me might have changed 0.2 to 0.02 for no apparent reason when we were working on this.\n",
       "Now, taking the derivative:\n",
       "$$Pf^{\\prime}=21-0.2\\times\\frac{3}{2}x^{\\frac{1}{2}}$$\n",
       "$$Pf^{\\prime}=21-0.3x^{\\frac{1}{2}}$$\n",
       "Now, letting the derivative be zero:\n",
       "$$21=0.3x^{\\frac{1}{2}}$$\n",
       "$$70=x^{\\frac{1}{2}}=\\sqrt{x}$$\n",
       "$$\\sqrt{x}=70$$\n",
       "Squaring both sides:\n",
       "$$\\sqrt{x}^2=70^2$$\n",
       "$$x=70^2=4900$$"
      ],
      "text/plain": [
       "<IPython.core.display.Latex object>"
      ]
     },
     "metadata": {},
     "output_type": "display_data"
    }
   ],
   "source": [
    "%%latex\n",
    "C=Cost, P=Price, Pf=Profit, x=number of shirts.  From the first sentence:\n",
    "$$C=500+9x$$\n",
    "From the given equation:\n",
    "$$P+0.2\\sqrt{x}=30$$\n",
    "$$P=30-0.2\\sqrt{x}$$\n",
    "From the profit equation (above):\n",
    "$$Pf=Px-C$$\n",
    "Substituting the first two equations into the profit equation for C and P:\n",
    "$$Pf=(30-0.2\\sqrt{x})x-(500+9x)$$\n",
    "$$Pf=(30x-0.2x\\sqrt{x})-500-9x$$\n",
    "$$Pf=21x-0.2x^{\\frac{3}{2}}-500$$\n",
    "Somewhere me might have changed 0.2 to 0.02 for no apparent reason when we were working on this.\n",
    "Now, taking the derivative:\n",
    "$$Pf^{\\prime}=21-0.2\\times\\frac{3}{2}x^{\\frac{1}{2}}$$\n",
    "$$Pf^{\\prime}=21-0.3x^{\\frac{1}{2}}$$\n",
    "Now, letting the derivative be zero:\n",
    "$$21=0.3x^{\\frac{1}{2}}$$\n",
    "$$70=x^{\\frac{1}{2}}=\\sqrt{x}$$\n",
    "$$\\sqrt{x}=70$$\n",
    "Squaring both sides:\n",
    "$$\\sqrt{x}^2=70^2$$\n",
    "$$x=70^2=4900$$\n"
   ]
  },
  {
   "cell_type": "code",
   "execution_count": 27,
   "metadata": {},
   "outputs": [],
   "source": [
    "#You can test values just above and below x to see that 4900 is a maximum rather than a minimum:\n",
    "def equation(x): #here I'm making the computer plug them in\n",
    "    return 21*x-0.2*x**(3/2)-500\n",
    "a=equation(5000)\n",
    "b=equation(4800)\n",
    "c=equation(4900)\n",
    "def derivative(x):\n",
    "    return 21-0.3*x**(1/2)"
   ]
  },
  {
   "cell_type": "code",
   "execution_count": 19,
   "metadata": {},
   "outputs": [
    {
     "name": "stdout",
     "output_type": "stream",
     "text": [
      "Pf(5000)= 33789.321881345255\n",
      "Pf(4800)= 33789.24898935511\n"
     ]
    }
   ],
   "source": [
    "#Values of the function at points, to show the values are greatest at 4900\n",
    "print('Pf(5000)=', a)\n",
    "print('Pf(4800)=', b)\n",
    "print('Pf(4900)=', c)"
   ]
  },
  {
   "cell_type": "code",
   "execution_count": 32,
   "metadata": {},
   "outputs": [
    {
     "data": {
      "text/plain": [
       "[<matplotlib.lines.Line2D at 0x7ff258719160>]"
      ]
     },
     "execution_count": 32,
     "metadata": {},
     "output_type": "execute_result"
    },
    {
     "data": {
      "image/png": "[encoded data removed]",
      "text/plain": [
       "<matplotlib.figure.Figure at 0x7ff25a023f28>"
      ]
     },
     "metadata": {},
     "output_type": "display_data"
    }
   ],
   "source": [
    "#here's the original function in blue.\n",
    "%matplotlib inline\n",
    "import matplotlib.pyplot as plt\n",
    "import numpy as np\n",
    "x=np.arange(1,10000,100)\n",
    "y=equation(x)\n",
    "#z=derivative(x)\n",
    "plt.plot(x,y)\n",
    "#plt.plot(x,z)"
   ]
  },
  {
   "cell_type": "code",
   "execution_count": 31,
   "metadata": {},
   "outputs": [
    {
     "data": {
      "text/plain": [
       "[<matplotlib.lines.Line2D at 0x7ff25880c940>]"
      ]
     },
     "execution_count": 31,
     "metadata": {},
     "output_type": "execute_result"
    },
    {
     "data": {
      "image/png": "[encoded data removed]",
      "text/plain": [
       "<matplotlib.figure.Figure at 0x7ff25880c908>"
      ]
     },
     "metadata": {},
     "output_type": "display_data"
    }
   ],
   "source": [
    "#here's a graph of the derivative in blue, crossing the x axis in black\n",
    "z=derivative(x)\n",
    "plt.plot(x,z)\n",
    "axis=np.zeros(np.shape(x))\n",
    "plt.plot(x,axis,color='black')"
   ]
  }
 ],
 "metadata": {
  "kernelspec": {
   "display_name": "Python 3",
   "language": "python",
   "name": "python3"
  },
  "language_info": {
   "codemirror_mode": {
    "name": "ipython",
    "version": 3
   },
   "file_extension": ".py",
   "mimetype": "text/x-python",
   "name": "python",
   "nbconvert_exporter": "python",
   "pygments_lexer": "ipython3",
   "version": "3.6.2"
  }
 },
 "nbformat": 4,
 "nbformat_minor": 2
}
