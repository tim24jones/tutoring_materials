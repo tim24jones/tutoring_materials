{
 "cells": [
  {
   "cell_type": "code",
   "execution_count": 2,
   "metadata": {
    "collapsed": true
   },
   "outputs": [],
   "source": [
    "#The grey parts (like around this text) is the computer code input, the white are the output.\n",
    "#I'm giving you this answer because I've already seen you go through the entire process correctly.\n",
    "#Therefore, the only issue might be minor computation errors, which you can check with this.\n",
    "#You can also see how I'm checking to make sure I have the right answer."
   ]
  },
  {
   "cell_type": "code",
   "execution_count": 6,
   "metadata": {
    "collapsed": true
   },
   "outputs": [],
   "source": [
    "import numpy as np\n",
    "%matplotlib inline\n",
    "import matplotlib.pyplot as plt"
   ]
  },
  {
   "cell_type": "code",
   "execution_count": 5,
   "metadata": {},
   "outputs": [
    {
     "data": {
      "text/latex": [
       "What is the area of the largest rectangle that can be inscribed in the ellipse: $4x^2+9y^2=36$?"
      ],
      "text/plain": [
       "<IPython.core.display.Latex object>"
      ]
     },
     "metadata": {},
     "output_type": "display_data"
    }
   ],
   "source": [
    "%%latex\n",
    "What is the area of the largest rectangle that can be inscribed in the ellipse: $4x^2+9y^2=36$?"
   ]
  },
  {
   "cell_type": "code",
   "execution_count": 3,
   "metadata": {},
   "outputs": [
    {
     "data": {
      "text/latex": [
       "$$4x^2+9y^2=36$$\n",
       "Dividing by 36:\n",
       "$$\\dfrac{x^2}{9}+\\dfrac{y^2}{4}=\\dfrac{36}{36}$$\n",
       "$$\\dfrac{x^2}{3^2}+\\dfrac{y^2}{2^2}=1$$\n",
       "Therefore we know we have an ellipse with major axis 3 and minor axis 2."
      ],
      "text/plain": [
       "<IPython.core.display.Latex object>"
      ]
     },
     "metadata": {},
     "output_type": "display_data"
    }
   ],
   "source": [
    "%%latex\n",
    "$$4x^2+9y^2=36$$\n",
    "Dividing by 36:\n",
    "$$\\dfrac{x^2}{9}+\\dfrac{y^2}{4}=\\dfrac{36}{36}$$\n",
    "$$\\dfrac{x^2}{3^2}+\\dfrac{y^2}{2^2}=1$$\n",
    "Therefore we know we have an ellipse with major axis 3 and minor axis 2."
   ]
  },
  {
   "cell_type": "code",
   "execution_count": 22,
   "metadata": {},
   "outputs": [
    {
     "data": {
      "text/plain": [
       "[<matplotlib.lines.Line2D at 0x7f1f814ebc18>]"
      ]
     },
     "execution_count": 22,
     "metadata": {},
     "output_type": "execute_result"
    },
    {
     "data": {
      "image/png": "[encoded data removed]",
      "text/plain": [
       "<matplotlib.figure.Figure at 0x7f1f814ebba8>"
      ]
     },
     "metadata": {},
     "output_type": "display_data"
    }
   ],
   "source": [
    "#some code to draw the graph below\n",
    "x=np.linspace(-3,3,501)\n",
    "def positive_ellipse(x):\n",
    "    return np.sqrt(4*(1-(x**2)/9))\n",
    "def negative_ellipse(x):\n",
    "    return -1*np.sqrt(4*(1-(x**2)/9))\n",
    "plt.plot(x,positive_ellipse(x), color='blue')\n",
    "plt.plot(x,negative_ellipse(x), color='blue')"
   ]
  },
  {
   "cell_type": "code",
   "execution_count": 40,
   "metadata": {},
   "outputs": [
    {
     "data": {
      "text/latex": [
       "The area is 4 times the area in a quadrant.\n",
       "$$A=4xy$$\n",
       "To maximize, we must get this in terms of one variable.  We can assume x and y are positive if we take the versions in quadrant I.\n",
       "Solving for x in the ellipse equation:\n",
       "$$\\dfrac{x^2}{3^2}+\\dfrac{y^2}{2^2}=1$$\n",
       "$$\\dfrac{x^2}{3^2}=1-\\dfrac{y^2}{2^2}$$\n",
       "$$x^2=9(1-\\dfrac{y^2}{2^2})$$\n",
       "$$x=3\\sqrt{1-\\dfrac{y^2}{4}}$$\n",
       "Or we could have solved for y to get:\n",
       "$$y=2\\sqrt{1-\\dfrac{x^2}{9}}$$\n",
       "Plugging into the area equation we get either:\n",
       "$$A=4\\times3(\\sqrt{1-\\dfrac{y^2}{4}})y$$\n",
       "or\n",
       "$$A=4x\\times2\\sqrt{1-\\dfrac{x^2}{9}}$$\n",
       "You solved in terms of x, so we'll go with the second one.  Simplifying, we would do this:\n",
       "$$A=8x\\sqrt{1-\\dfrac{x^2}{9}}$$\n",
       "$$A^\\prime=8\\sqrt{1-\\dfrac{x^2}{9}}-\\frac{1}{2}8x(1-\\dfrac{x^2}{9})^{\\frac{-1}{2}}\\times\\frac{2x}{9}$$\n",
       "$$A^\\prime=8\\sqrt{1-\\dfrac{x^2}{9}}-8x\\frac{1}{2}(1-\\dfrac{x^2}{9})^{\\frac{-1}{2}}\\times\\frac{2x}{9}$$\n",
       "$$A^\\prime=8\\sqrt{1-\\dfrac{x^2}{9}}-4x(1-\\dfrac{x^2}{9})^{\\frac{-1}{2}}\\times\\frac{2x}{9}$$\n",
       "$$A^\\prime=8\\sqrt{1-\\dfrac{x^2}{9}}-\\dfrac{8x^2}{9}(1-\\dfrac{x^2}{9})^{\\frac{-1}{2}}$$\n",
       "\n",
       "You kept it with an extra factor of 4 inside the radical, so I'll do that too, so you can compare:\n",
       "$$A=4x(\\sqrt{4-\\dfrac{4x^2}{9}})$$\n",
       "$$A^\\prime=4(\\sqrt{4-\\dfrac{4x^2}{9}})-4x\\frac{1}{2}(4-\\dfrac{4x^2}{9})^{\\frac{-1}{2}}\\times\\dfrac{8x}{9}$$\n",
       "Simplifying:\n",
       "$$A^\\prime=4(\\sqrt{4-\\dfrac{4x^2}{9}})-2x\\times\\dfrac{8x}{9}(4-\\dfrac{4x^2}{9})^{\\frac{-1}{2}}$$\n",
       "$$A^\\prime=4(\\sqrt{4-\\dfrac{4x^2}{9}})-\\dfrac{16x^2}{9}(4-\\dfrac{4x^2}{9})^{\\frac{-1}{2}}$$\n",
       "At this point, you could simplify to the other form by taking out that 4, keeping in mind that it is in the denominator of the second term due to the negative exponent:\n",
       "$$A^\\prime=8(\\sqrt{2-\\dfrac{x^2}{9}})-\\dfrac{8x^2}{9}(1-\\dfrac{x^2}{9})^{\\frac{-1}{2}}$$"
      ],
      "text/plain": [
       "<IPython.core.display.Latex object>"
      ]
     },
     "metadata": {},
     "output_type": "display_data"
    }
   ],
   "source": [
    "%%latex\n",
    "The area is 4 times the area in a quadrant.\n",
    "$$A=4xy$$\n",
    "To maximize, we must get this in terms of one variable.  We can assume x and y are positive if we take the versions in quadrant I.\n",
    "Solving for x in the ellipse equation:\n",
    "$$\\dfrac{x^2}{3^2}+\\dfrac{y^2}{2^2}=1$$\n",
    "$$\\dfrac{x^2}{3^2}=1-\\dfrac{y^2}{2^2}$$\n",
    "$$x^2=9(1-\\dfrac{y^2}{2^2})$$\n",
    "$$x=3\\sqrt{1-\\dfrac{y^2}{4}}$$\n",
    "Or we could have solved for y to get:\n",
    "$$y=2\\sqrt{1-\\dfrac{x^2}{9}}$$\n",
    "Plugging into the area equation we get either:\n",
    "$$A=4\\times3(\\sqrt{1-\\dfrac{y^2}{4}})y$$\n",
    "or\n",
    "$$A=4x\\times2\\sqrt{1-\\dfrac{x^2}{9}}$$\n",
    "You solved in terms of x, so we'll go with the second one.  Simplifying, we would do this:\n",
    "$$A=8x\\sqrt{1-\\dfrac{x^2}{9}}$$\n",
    "$$A^\\prime=8\\sqrt{1-\\dfrac{x^2}{9}}-\\frac{1}{2}8x(1-\\dfrac{x^2}{9})^{\\frac{-1}{2}}\\times\\frac{2x}{9}$$\n",
    "$$A^\\prime=8\\sqrt{1-\\dfrac{x^2}{9}}-8x\\frac{1}{2}(1-\\dfrac{x^2}{9})^{\\frac{-1}{2}}\\times\\frac{2x}{9}$$\n",
    "$$A^\\prime=8\\sqrt{1-\\dfrac{x^2}{9}}-4x(1-\\dfrac{x^2}{9})^{\\frac{-1}{2}}\\times\\frac{2x}{9}$$\n",
    "$$A^\\prime=8\\sqrt{1-\\dfrac{x^2}{9}}-\\dfrac{8x^2}{9}(1-\\dfrac{x^2}{9})^{\\frac{-1}{2}}$$\n",
    "\n",
    "You kept it with an extra factor of 4 inside the radical, so I'll do that too, so you can compare:\n",
    "$$A=4x(\\sqrt{4-\\dfrac{4x^2}{9}})$$\n",
    "$$A^\\prime=4(\\sqrt{4-\\dfrac{4x^2}{9}})-4x\\frac{1}{2}(4-\\dfrac{4x^2}{9})^{\\frac{-1}{2}}\\times\\dfrac{8x}{9}$$\n",
    "Simplifying:\n",
    "$$A^\\prime=4(\\sqrt{4-\\dfrac{4x^2}{9}})-2x\\times\\dfrac{8x}{9}(4-\\dfrac{4x^2}{9})^{\\frac{-1}{2}}$$\n",
    "$$A^\\prime=4(\\sqrt{4-\\dfrac{4x^2}{9}})-\\dfrac{16x^2}{9}(4-\\dfrac{4x^2}{9})^{\\frac{-1}{2}}$$\n",
    "At this point, you could simplify to the other form by taking out that 4, keeping in mind that it is in the denominator of the second term due to the negative exponent:\n",
    "$$A^\\prime=8(\\sqrt{2-\\dfrac{x^2}{9}})-\\dfrac{8x^2}{9}(1-\\dfrac{x^2}{9})^{\\frac{-1}{2}}$$"
   ]
  },
  {
   "cell_type": "code",
   "execution_count": 41,
   "metadata": {},
   "outputs": [
    {
     "data": {
      "text/plain": [
       "[<matplotlib.lines.Line2D at 0x7f1f81099e80>]"
      ]
     },
     "execution_count": 41,
     "metadata": {},
     "output_type": "execute_result"
    },
    {
     "data": {
      "image/png": "[encoded data removed]",
      "text/plain": [
       "<matplotlib.figure.Figure at 0x7f1f810995c0>"
      ]
     },
     "metadata": {},
     "output_type": "display_data"
    }
   ],
   "source": [
    "#I'm going to check the derivative by graphing the area function and its derivative.\n",
    "x=np.linspace(-2.99,2.99,500)\n",
    "def derivative(x):\n",
    "    return 4*(4-4*(x**2)/9)**0.5-(16/9)*x**2*(4-(4/9)*x**2)**(-0.5)\n",
    "def area(x):\n",
    "    return 8*x*np.sqrt(1-(x**2)/9)\n",
    "plt.plot(x,area(x))\n",
    "plt.plot(x,derivative(x))"
   ]
  },
  {
   "cell_type": "code",
   "execution_count": null,
   "metadata": {
    "collapsed": true
   },
   "outputs": [],
   "source": [
    "#The area function makes sense; a circumscribed rectangle will be 24 sq units, so the function is not unreasonable\n",
    "#(it must always be less than 24).\n",
    "#We see an inflection point of the area funtion at a minimum point of the derivative.\n",
    "#We also the function is concave down when the derivative is increasing, and concave up when the derivative is decreasing.\n"
   ]
  },
  {
   "cell_type": "code",
   "execution_count": 47,
   "metadata": {},
   "outputs": [
    {
     "data": {
      "text/latex": [
       "Setting the derivative equal to zero:\n",
       "$$A^\\prime=8\\sqrt{1-\\dfrac{x^2}{9}}-\\dfrac{8x^2}{9}(1-\\dfrac{x^2}{9})^{\\frac{-1}{2}}$$\n",
       "$$0=8\\sqrt{1-\\dfrac{x^2}{9}}-\\dfrac{8x^2}{9}(1-\\dfrac{x^2}{9})^{\\frac{-1}{2}}$$\n",
       "$$8\\sqrt{1-\\dfrac{x^2}{9}}=\\dfrac{8x^2}{9}(1-\\dfrac{x^2}{9})^{\\frac{-1}{2}}$$\n",
       "$$8\\sqrt{1-\\dfrac{x^2}{9}}\\sqrt{1-\\dfrac{x^2}{9}}=\\dfrac{8x^2}{9}$$\n",
       "$$\\sqrt{1-\\dfrac{x^2}{9}}\\sqrt{1-\\dfrac{x^2}{9}}=\\dfrac{x^2}{9}$$\n",
       "$$1-\\dfrac{x^2}{9}=\\dfrac{x^2}{9}$$\n",
       "$$1=\\dfrac{2x^2}{9}$$\n",
       "$$\\frac{9}{2}=x^2$$\n",
       "$$x=\\sqrt{\\frac{9}{2}}$$\n",
       "$$x=\\frac{3}{\\sqrt{2}}$$\n",
       "We would rationalize the denominator if this were the final answer.\n",
       "We can check using the other unsimplified version of the derivative:\n",
       "$$A^\\prime=0=4(\\sqrt{4-\\dfrac{4x^2}{9}})-\\dfrac{16x^2}{9}(4-\\dfrac{4x^2}{9})^{\\frac{-1}{2}}$$\n",
       "$$4(\\sqrt{4-\\dfrac{4x^2}{9}})=\\dfrac{16x^2}{9}(4-\\dfrac{4x^2}{9})^{\\frac{-1}{2}}$$\n",
       "$$4\\sqrt{4-\\dfrac{4x^2}{9}}=\\dfrac{16x^2}{9}(4-\\dfrac{4x^2}{9})^{\\frac{-1}{2}}$$\n",
       "$$4\\sqrt{4-\\dfrac{4x^2}{9}}\\times\\sqrt{4-\\dfrac{4x^2}{9}}=\\dfrac{16x^2}{9}$$\n",
       "$$4(4-\\dfrac{4x^2}{9})=\\dfrac{16x^2}{9}$$\n",
       "$$16-\\dfrac{16x^2}{9}=\\dfrac{16x^2}{9}$$\n",
       "$$16=\\dfrac{32x^2}{9}$$\n",
       "$$1=\\dfrac{2x^2}{9}$$\n",
       "At this point this is identical to the 4th to last step in the other method."
      ],
      "text/plain": [
       "<IPython.core.display.Latex object>"
      ]
     },
     "metadata": {},
     "output_type": "display_data"
    }
   ],
   "source": [
    "%%latex\n",
    "Setting the derivative equal to zero:\n",
    "$$A^\\prime=8\\sqrt{1-\\dfrac{x^2}{9}}-\\dfrac{8x^2}{9}(1-\\dfrac{x^2}{9})^{\\frac{-1}{2}}$$\n",
    "$$0=8\\sqrt{1-\\dfrac{x^2}{9}}-\\dfrac{8x^2}{9}(1-\\dfrac{x^2}{9})^{\\frac{-1}{2}}$$\n",
    "$$8\\sqrt{1-\\dfrac{x^2}{9}}=\\dfrac{8x^2}{9}(1-\\dfrac{x^2}{9})^{\\frac{-1}{2}}$$\n",
    "$$8\\sqrt{1-\\dfrac{x^2}{9}}\\sqrt{1-\\dfrac{x^2}{9}}=\\dfrac{8x^2}{9}$$\n",
    "$$\\sqrt{1-\\dfrac{x^2}{9}}\\sqrt{1-\\dfrac{x^2}{9}}=\\dfrac{x^2}{9}$$\n",
    "$$1-\\dfrac{x^2}{9}=\\dfrac{x^2}{9}$$\n",
    "$$1=\\dfrac{2x^2}{9}$$\n",
    "$$\\frac{9}{2}=x^2$$\n",
    "$$x=\\sqrt{\\frac{9}{2}}$$\n",
    "$$x=\\frac{3}{\\sqrt{2}}$$\n",
    "We would rationalize the denominator if this were the final answer.\n",
    "We can check using the other unsimplified version of the derivative:\n",
    "$$A^\\prime=0=4(\\sqrt{4-\\dfrac{4x^2}{9}})-\\dfrac{16x^2}{9}(4-\\dfrac{4x^2}{9})^{\\frac{-1}{2}}$$\n",
    "$$4(\\sqrt{4-\\dfrac{4x^2}{9}})=\\dfrac{16x^2}{9}(4-\\dfrac{4x^2}{9})^{\\frac{-1}{2}}$$\n",
    "$$4\\sqrt{4-\\dfrac{4x^2}{9}}=\\dfrac{16x^2}{9}(4-\\dfrac{4x^2}{9})^{\\frac{-1}{2}}$$\n",
    "$$4\\sqrt{4-\\dfrac{4x^2}{9}}\\times\\sqrt{4-\\dfrac{4x^2}{9}}=\\dfrac{16x^2}{9}$$\n",
    "$$4(4-\\dfrac{4x^2}{9})=\\dfrac{16x^2}{9}$$\n",
    "$$16-\\dfrac{16x^2}{9}=\\dfrac{16x^2}{9}$$\n",
    "$$16=\\dfrac{32x^2}{9}$$\n",
    "$$1=\\dfrac{2x^2}{9}$$\n",
    "At this point this is identical to the 4th to last step in the other method."
   ]
  },
  {
   "cell_type": "code",
   "execution_count": 46,
   "metadata": {},
   "outputs": [
    {
     "data": {
      "text/plain": [
       "[<matplotlib.lines.Line2D at 0x7f1f80c00fd0>]"
      ]
     },
     "execution_count": 46,
     "metadata": {},
     "output_type": "execute_result"
    },
    {
     "data": {
      "image/png": "[encoded data removed]",
      "text/plain": [
       "<matplotlib.figure.Figure at 0x7f1f80e8fe80>"
      ]
     },
     "metadata": {},
     "output_type": "display_data"
    }
   ],
   "source": [
    "#checking that this is right:\n",
    "p=3*2**-0.5\n",
    "plt.plot(x,area(x))\n",
    "plt.plot(x,derivative(x))\n",
    "plt.plot(p,area(p),'o',color='red')\n",
    "plt.plot(x,np.zeros(np.shape(x)),color='black')"
   ]
  },
  {
   "cell_type": "code",
   "execution_count": null,
   "metadata": {
    "collapsed": true
   },
   "outputs": [],
   "source": [
    "#It remains for you to plug in this value to find the area."
   ]
  }
 ],
 "metadata": {
  "kernelspec": {
   "display_name": "Python 3",
   "language": "python",
   "name": "python3"
  },
  "language_info": {
   "codemirror_mode": {
    "name": "ipython",
    "version": 3
   },
   "file_extension": ".py",
   "mimetype": "text/x-python",
   "name": "python",
   "nbconvert_exporter": "python",
   "pygments_lexer": "ipython3",
   "version": "3.6.2"
  }
 },
 "nbformat": 4,
 "nbformat_minor": 2
}
